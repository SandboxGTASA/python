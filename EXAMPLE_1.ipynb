{
  "nbformat": 4,
  "nbformat_minor": 0,
  "metadata": {
    "colab": {
      "name": "EXAMPLE_1.ipynb",
      "provenance": [],
      "collapsed_sections": [],
      "authorship_tag": "ABX9TyNIw1DKlsw+fpA7iXi+xuBY",
      "include_colab_link": true
    },
    "kernelspec": {
      "name": "python3",
      "display_name": "Python 3"
    }
  },
  "cells": [
    {
      "cell_type": "markdown",
      "metadata": {
        "id": "view-in-github",
        "colab_type": "text"
      },
      "source": [
        "<a href=\"https://colab.research.google.com/github/SandboxGTASA/python/blob/master/EXAMPLE_1.ipynb\" target=\"_parent\"><img src=\"https://colab.research.google.com/assets/colab-badge.svg\" alt=\"Open In Colab\"/></a>"
      ]
    },
    {
      "cell_type": "code",
      "metadata": {
        "id": "qEx2qdAs1aJI"
      },
      "source": [
        "import numpy as np\n",
        "import pandas as pd\n",
        "import matplotlib.pyplot as plt\n",
        "import plotly.offline as pyo\n",
        "import plotly.graph_objs as go\n",
        "%matplotlib inline"
      ],
      "execution_count": 1,
      "outputs": []
    },
    {
      "cell_type": "code",
      "metadata": {
        "colab": {
          "base_uri": "https://localhost:8080/",
          "height": 371
        },
        "id": "Aipbkb3S0_Nr",
        "outputId": "b5745952-ac0c-4c78-9ebe-345ddacb952f"
      },
      "source": [
        "\n",
        "\n",
        "fig = plt.figure()\n",
        "ax1 = fig.add_axes([0, 0, 1, 1]) # eixos principais\n",
        "ax2 = fig.add_axes([0.2,0.5, .2, .2]) # eixos internos\n",
        "x = np.arange(0,100)\n",
        "y = x*2\n",
        "\n",
        "\n",
        "\n",
        "ax1.plot(x, y)\n",
        "ax1.set_xlabel('x')\n",
        "ax1.set_ylabel('y')\n",
        "ax2.set_ylim(0,200)\n",
        "ax2.set_xlim(0,100)\n",
        "\n",
        "ax1.locator_params(axis='y', nbins=5)\n",
        "ax1.locator_params(axis='x', nbins=6)\n",
        "\n",
        "\n",
        "ax2.plot(x, y)\n",
        "ax1.set_ylim(0,200)\n",
        "ax1.set_xlim(0,100)\n",
        "ax2.locator_params(axis='y', nbins=5)\n",
        "ax2.locator_params(axis='x', nbins=6)\n",
        "ax2.set_xlabel('x')\n",
        "ax2.set_ylabel('y')\n",
        "ax1\n",
        "ax2"
      ],
      "execution_count": 15,
      "outputs": [
        {
          "output_type": "execute_result",
          "data": {
            "text/plain": [
              "<matplotlib.axes._axes.Axes at 0x7f5caf1a4ba8>"
            ]
          },
          "metadata": {
            "tags": []
          },
          "execution_count": 15
        },
        {
          "output_type": "display_data",
          "data": {
            "image/png": "[encoded data removed]",
            "text/plain": [
              "<Figure size 432x288 with 2 Axes>"
            ]
          },
          "metadata": {
            "tags": [],
            "needs_background": "light"
          }
        }
      ]
    }
  ]
}